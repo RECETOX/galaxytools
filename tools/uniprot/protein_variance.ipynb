{
 "cells": [
  {
   "cell_type": "code",
   "execution_count": 30,
   "id": "124e5d82",
   "metadata": {},
   "outputs": [],
   "source": [
    "import requests, sys\n",
    "import json\n",
    "import pandas as pd"
   ]
  },
  {
   "cell_type": "code",
   "execution_count": null,
   "id": "c35161b8",
   "metadata": {},
   "outputs": [],
   "source": [
    "accession = \"P0DJI9\"\n",
    "variant_index = 'NCBI Reference SNP (rs) Report ALPHA'"
   ]
  },
  {
   "cell_type": "code",
   "execution_count": 69,
   "id": "a25f9721",
   "metadata": {},
   "outputs": [],
   "source": [
    "def get_protein_variation(accession: str) -> tuple[dict, pd.DataFrame]:\n",
    "    requestURL = f\"https://www.ebi.ac.uk/proteins/api/variation?offset=0&size=-1&accession={accession}\"\n",
    "    r = requests.get(requestURL, headers={ \"Accept\" : \"application/json\"})\n",
    "\n",
    "    if not r.ok:\n",
    "      r.raise_for_status()\n",
    "      sys.exit()\n",
    "\n",
    "    responseBody = r.text\n",
    "\n",
    "    data = json.loads(responseBody)[0]\n",
    "\n",
    "    features = pd.DataFrame(data.pop('features'))\n",
    "    return data, features"
   ]
  },
  {
   "cell_type": "code",
   "execution_count": 71,
   "id": "75bb9c16",
   "metadata": {},
   "outputs": [],
   "source": [
    "def get_ref_aa_sequence(peptide_sequence: str, feature: dict) -> str:\n",
    "    \"\"\"\n",
    "    Get the reference amino acid for a given feature.\n",
    "    \n",
    "    Args:\n",
    "        sequence (str): The full protein sequence.\n",
    "        feature (dict): A feature dictionary containing 'begin' and 'end'.\n",
    "        \n",
    "    Returns:\n",
    "        str: The reference amino acid or None if not applicable.\n",
    "    \"\"\"\n",
    "    start = int(feature.get('begin'))\n",
    "    end = int(feature.get('end'))\n",
    "    \n",
    "    return peptide_sequence[start-1:end]"
   ]
  },
  {
   "cell_type": "code",
   "execution_count": 93,
   "id": "5d804eb1",
   "metadata": {},
   "outputs": [],
   "source": [
    "def get_position(feature: dict) -> str:\n",
    "    \"\"\"\n",
    "    Get the position of a feature in the protein sequence.\n",
    "\n",
    "    Args:\n",
    "        feature (dict): A feature dictionary containing 'begin' and 'end'.\n",
    "\n",
    "    Returns:\n",
    "        str: The position in the format \"start-end\".\n",
    "    \"\"\"\n",
    "    begin = feature.get('begin')\n",
    "    end = feature.get('end')\n",
    "    if begin == end:\n",
    "        return str(begin)\n",
    "    return f\"{feature.get('begin')}-{feature.get('end')}\""
   ]
  },
  {
   "cell_type": "code",
   "execution_count": 6,
   "id": "0fcfffff",
   "metadata": {},
   "outputs": [],
   "source": [
    "def get_variant_id(feature: dict) -> str:\n",
    "    \"\"\"\n",
    "    Get the variant ID from a feature.\n",
    "\n",
    "    Args:\n",
    "        feature (dict): A feature dictionary.\n",
    "\n",
    "    Returns:\n",
    "        str: The variant ID or None if not applicable.\n",
    "    \"\"\"\n",
    "    xrefs = feature.get('xrefs', [])\n",
    "    for xref in xrefs:\n",
    "        if xref.get('id').startswith('rs'):\n",
    "            return xref.get('id')\n",
    "    return ''"
   ]
  },
  {
   "cell_type": "code",
   "execution_count": 15,
   "id": "d97e70df",
   "metadata": {},
   "outputs": [],
   "source": [
    "def get_frequency(variant:str) -> str:\n",
    "    if not variant:\n",
    "        return ''\n",
    "        \n",
    "    try:\n",
    "        freq_url = f\"https://www.ncbi.nlm.nih.gov/snp/{variant}/download/frequency\"\n",
    "        r = requests.get(freq_url, headers={ \"Accept\" : \"application/json\"})\n",
    "        if not r.ok:\n",
    "            r.raise_for_status()\n",
    "        return r.text\n",
    "    except requests.exceptions.RequestException as e:\n",
    "        print(f\"Error fetching frequency data for variant {variant}: {e}\")\n",
    "        return ''"
   ]
  },
  {
   "cell_type": "code",
   "execution_count": null,
   "id": "3986c8c9",
   "metadata": {},
   "outputs": [],
   "source": [
    "def parse_frequency_reponse(responseBody: str) -> tuple[dict, pd.DataFrame]:\n",
    "    \"\"\"\n",
    "    Parse the frequency response body.\n",
    "\n",
    "    Args:\n",
    "        responseBody (str): The response body as a string.\n",
    "\n",
    "    Returns:\n",
    "        dict: Parsed JSON data.\n",
    "    \"\"\"\n",
    "    if responseBody == '':\n",
    "        return {}, pd.DataFrame()\n",
    "\n",
    "    lines = responseBody.splitlines()\n",
    "    n_lines = len(lines)\n",
    "    i = 0\n",
    "\n",
    "    metadata = {}\n",
    "    header = []\n",
    "    rows = []\n",
    "\n",
    "    while i < n_lines:\n",
    "        line = lines[i]\n",
    "        tokens = line.split('\\t')\n",
    "\n",
    "        if len(tokens) == 2:\n",
    "            key = tokens[0].strip('# ')\n",
    "            value = tokens[1].strip()\n",
    "            metadata[key] = value\n",
    "        elif len(tokens) > 2:\n",
    "            if tokens[0].startswith('#'):\n",
    "                header = [t.strip('# ') for t in tokens]\n",
    "            else:\n",
    "                row = list(map(lambda x: 'NA' if x == \"\" else x, tokens))\n",
    "                rows.append(row)\n",
    "        elif len(tokens) == 1:\n",
    "            pass\n",
    "        else:\n",
    "            print(f\"Unexpected line format at line {i}: {line}\")\n",
    "            sys.exit(1)\n",
    "        i += 1\n",
    "        continue\n",
    "    \n",
    "    df = pd.DataFrame(rows, columns=header)\n",
    "    df[variant_index] = metadata.get(variant_index)\n",
    "    return metadata, df"
   ]
  },
  {
   "cell_type": "code",
   "execution_count": 75,
   "id": "cae633b1",
   "metadata": {},
   "outputs": [],
   "source": [
    "def combine_alternative_sequences(df):\n",
    "    if 'alternativeSequence' not in df.columns:\n",
    "        return df\n",
    "    return (\n",
    "        df.groupby(['begin', 'end', 'variant_id'], dropna=False, as_index=False)\n",
    "        .agg({col: (lambda x: ','.join(x.astype(str).unique())) if col == 'alternativeSequence' else 'first'\n",
    "              for col in df.columns})\n",
    "    )"
   ]
  },
  {
   "cell_type": "code",
   "execution_count": 88,
   "id": "2673ae44",
   "metadata": {},
   "outputs": [],
   "source": [
    "data, features_df = get_protein_variation(accession)\n",
    "features_df['variant_id'] = features_df.apply(get_variant_id, axis=1)\n",
    "features_df['variation_position'] = features_df.apply(get_position, axis=1)\n",
    "features_df['ref_aa'] = features_df.apply(lambda x: get_ref_aa_sequence(data.get('sequence'), x), axis=1)\n",
    "features_df = combine_alternative_sequences(features_df)"
   ]
  },
  {
   "cell_type": "code",
   "execution_count": 78,
   "id": "56203851",
   "metadata": {},
   "outputs": [
    {
     "name": "stdout",
     "output_type": "stream",
     "text": [
      "Error fetching frequency data for variant rs1559599007: 500 Server Error: Internal Server Error for url: https://www.ncbi.nlm.nih.gov/snp/rs1559599007/download/frequency\n"
     ]
    }
   ],
   "source": [
    "results = list(zip(*[parse_frequency_reponse(get_frequency(variant)) for variant in features_df['variant_id']]))"
   ]
  },
  {
   "cell_type": "code",
   "execution_count": 79,
   "id": "3ee8ec71",
   "metadata": {},
   "outputs": [],
   "source": [
    "metadata_df = pd.DataFrame(results[0])\n",
    "frequencies_df = pd.concat(results[1])"
   ]
  },
  {
   "cell_type": "code",
   "execution_count": 89,
   "id": "e21be667",
   "metadata": {},
   "outputs": [],
   "source": [
    "merged = pd.concat([features_df, metadata_df], axis=1)\n",
    "final_merged = pd.merge(merged, frequencies_df, on=variant_index, how='outer')\n"
   ]
  },
  {
   "cell_type": "code",
   "execution_count": 90,
   "id": "55340733",
   "metadata": {},
   "outputs": [],
   "source": [
    "final_merged[['Ref Allele NA', 'Ref Allele Prob']] = final_merged['Ref Allele'].str.split('=', n=1, expand=True)\n",
    "final_merged[['Alt Allele NA', 'Alt Allele Prob']] = final_merged['Alt Allele'].str.split('=', n=1, expand=True)"
   ]
  },
  {
   "cell_type": "code",
   "execution_count": 91,
   "id": "80076ecd",
   "metadata": {},
   "outputs": [],
   "source": [
    "final_merged_filtered = final_merged.loc[:, final_merged.isna().mean() < 0.8]"
   ]
  },
  {
   "cell_type": "code",
   "execution_count": 92,
   "id": "4e2f0c3b",
   "metadata": {},
   "outputs": [],
   "source": [
    "final_merged.to_csv(f\"{accession}_protein_variation.csv\", index=False, sep='\\t')"
   ]
  }
 ],
 "metadata": {
  "kernelspec": {
   "display_name": "Python 3",
   "language": "python",
   "name": "python3"
  },
  "language_info": {
   "codemirror_mode": {
    "name": "ipython",
    "version": 3
   },
   "file_extension": ".py",
   "mimetype": "text/x-python",
   "name": "python",
   "nbconvert_exporter": "python",
   "pygments_lexer": "ipython3",
   "version": "3.13.2"
  }
 },
 "nbformat": 4,
 "nbformat_minor": 5
}
